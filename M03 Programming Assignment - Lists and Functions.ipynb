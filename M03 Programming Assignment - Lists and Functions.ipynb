{
 "cells": [
  {
   "cell_type": "code",
   "execution_count": 6,
   "id": "4aab2da5",
   "metadata": {},
   "outputs": [
    {
     "name": "stdout",
     "output_type": "stream",
     "text": [
      "['mozzarella', 'Cinderalla', 'salmonella']\n",
      "['MOZZARELLA', 'Cinderalla', 'salmonella']\n",
      "Collected Nobel Prize for being an awesome programmer!\n",
      "['MOZZARELLA', 'Cinderalla']\n",
      "5\n"
     ]
    }
   ],
   "source": [
    "#Question 7.4\n",
    "things = [\"mozzarella\", \"cinderalla\", \"salmonella\"]\n",
    "\n",
    "\n",
    "#Question 7.5\n",
    "things[1] = things[1].capitalize()\n",
    "print(things)\n",
    "\n",
    "\n",
    "#Question 7.6\n",
    "things[0] = things[0].upper()\n",
    "print(things)\n",
    "\n",
    "#Question 7.7\n",
    "things.remove(\"salmonella\")\n",
    "print(\"Collected Nobel Prize for being an awesome programmer!\")\n",
    "print(things)\n",
    "\n",
    "#Question 9.1\n",
    "def good():\n",
    "    return ['Harry', 'Ron' 'Hermione']\n",
    "\n",
    "#Question 9.2\n",
    "def get_odds():\n",
    "    for i in range(10):\n",
    "        if i % 2 != 0:\n",
    "            yield i\n",
    "\n",
    "for i, val in enumerate(get_odds()):\n",
    "    if i == 2:\n",
    "        print(val)\n",
    "        break\n"
   ]
  }
 ],
 "metadata": {
  "kernelspec": {
   "display_name": "Python 3 (ipykernel)",
   "language": "python",
   "name": "python3"
  },
  "language_info": {
   "codemirror_mode": {
    "name": "ipython",
    "version": 3
   },
   "file_extension": ".py",
   "mimetype": "text/x-python",
   "name": "python",
   "nbconvert_exporter": "python",
   "pygments_lexer": "ipython3",
   "version": "3.9.13"
  }
 },
 "nbformat": 4,
 "nbformat_minor": 5
}
